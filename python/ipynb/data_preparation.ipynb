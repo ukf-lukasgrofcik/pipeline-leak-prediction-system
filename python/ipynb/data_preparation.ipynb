{
 "cells": [
  {
   "cell_type": "code",
   "execution_count": 1,
   "id": "97fe1b6a-62b4-446c-9299-0b001f164413",
   "metadata": {
    "tags": []
   },
   "outputs": [],
   "source": [
    "import pandas\n",
    "import os\n",
    "\n",
    "def loadDataFiles(subdirectory):\n",
    "    return [ pandas.read_csv(f'data-files/{subdirectory}/{file}') for file in os.listdir(f'data-files/{subdirectory}') if not file.startswith('.') ]"
   ]
  },
  {
   "cell_type": "code",
   "execution_count": 2,
   "id": "caa6a896-52bf-47db-8a49-8f345208e74e",
   "metadata": {
    "tags": []
   },
   "outputs": [],
   "source": [
    "def transformDataframes(dataframes):\n",
    "    return [ transformDataframe(dataframe) for dataframe in dataframes ]\n",
    "\n",
    "def transformDataframe(dataframe):\n",
    "    dataframe = dataframe[dataframe['name'].isin(['F1', 'F2', 'P1', 'P2'])]\n",
    "    dataframe = dataframe[dataframe['time'] != '2009-04-22 21:25:53.537000']\n",
    "    dataframe = dataframe[dataframe['time'] != '2009-04-22 21:25:53.537']\n",
    "    \n",
    "    return dataframe[[ 'name', 'value', 'time' ]]"
   ]
  },
  {
   "cell_type": "code",
   "execution_count": 3,
   "id": "fd4f1093-7937-48c3-837a-852ae16e50df",
   "metadata": {
    "tags": []
   },
   "outputs": [],
   "source": [
    "def getFramesFromAllDataFiles(dataframes):\n",
    "    return [ getFramesFromData(dataframe) for dataframe in dataframes ]\n",
    "\n",
    "def getFramesFromData(dataframe, frame_row_count = 100):\n",
    "    F1 = dataframe[dataframe['name'] == 'F1'].sort_values('time')\n",
    "    F2 = dataframe[dataframe['name'] == 'F2'].sort_values('time')\n",
    "    P1 = dataframe[dataframe['name'] == 'P1'].sort_values('time')\n",
    "    P2 = dataframe[dataframe['name'] == 'P2'].sort_values('time')\n",
    "    \n",
    "    frames = []\n",
    "    \n",
    "    for i in range(0, len(F1) - frame_row_count + 1):\n",
    "        frame = pandas.concat([\n",
    "            F1[i : i + frame_row_count],\n",
    "            F2[i : i + frame_row_count],\n",
    "            P1[i : i + frame_row_count],\n",
    "            P2[i : i + frame_row_count]\n",
    "        ])\n",
    "        \n",
    "        frames.append(frame)\n",
    "    \n",
    "    return frames"
   ]
  },
  {
   "cell_type": "code",
   "execution_count": 4,
   "id": "bf1797c7-14a0-4e61-bbf2-cd2ded7cf80f",
   "metadata": {
    "tags": []
   },
   "outputs": [],
   "source": [
    "def extractFeaturesAndTimestamps(frames_all):\n",
    "    features = []\n",
    "    timestamps = []\n",
    "\n",
    "    for frames in frames_all:\n",
    "        for frame in frames:\n",
    "            frame = frame.sort_values(['name', 'time'])\n",
    "\n",
    "            features.append(list(frame['value']))\n",
    "            timestamps.append(frame['time'].max())\n",
    "            \n",
    "    return features, timestamps"
   ]
  },
  {
   "cell_type": "code",
   "execution_count": 5,
   "id": "67ea3469-7b59-4a2f-9872-16252c52e03b",
   "metadata": {
    "tags": []
   },
   "outputs": [],
   "source": [
    "def buildDataframe(features, timestamps):\n",
    "    columns = []\n",
    "\n",
    "    for point in ['F1', 'F2', 'P1', 'P2']:\n",
    "        for i in range(1, 101):\n",
    "            columns.append(f'{point}-{i}')\n",
    "\n",
    "    dataframe = pandas.DataFrame(features, columns = columns)\n",
    "    dataframe['timestamp'] = [ timestamp[:-7] for timestamp in timestamps ]\n",
    "    \n",
    "    return dataframe"
   ]
  },
  {
   "cell_type": "code",
   "execution_count": 6,
   "id": "24ca4393-24e8-42e1-b5cb-74dc90b330da",
   "metadata": {},
   "outputs": [],
   "source": [
    "def saveDataframe(dataframe, output_name):\n",
    "    dataframe.to_csv(f'data-files/output/{output_name}.csv', index = False)"
   ]
  },
  {
   "cell_type": "code",
   "execution_count": 7,
   "id": "162da40b-c838-4316-bc93-f65f82e1679b",
   "metadata": {},
   "outputs": [],
   "source": [
    "def prepareData(source_dir, output_name):\n",
    "    dataframes = loadDataFiles(source_dir)\n",
    "    dataframes = transformDataframes(dataframes)\n",
    "    frames_all = getFramesFromAllDataFiles(dataframes)\n",
    "    features, timestamps = extractFeaturesAndTimestamps(frames_all)\n",
    "    dataframe = buildDataframe(features, timestamps)\n",
    "    saveDataframe(dataframe, output_name)"
   ]
  },
  {
   "cell_type": "code",
   "execution_count": 8,
   "id": "987c6e35-688c-4e12-9cef-578e33f6faad",
   "metadata": {},
   "outputs": [],
   "source": [
    "def validateDataFile(filename):\n",
    "    dataframe = pandas.read_csv(f'data-files/output/{filename}.csv')\n",
    "    \n",
    "    has_nan_values = dataframe.isna().any().any()\n",
    "    has_zero_values = (dataframe == 0).any().any()\n",
    "    \n",
    "    if has_nan_values: print(f'CSV file {filename}.csv contains NaN values!')\n",
    "    if has_zero_values: print(f'CSV file {filename}.csv contains Zero values!')"
   ]
  },
  {
   "cell_type": "code",
   "execution_count": 9,
   "id": "cb6435cd-42b2-4ab7-93f7-7a338703db38",
   "metadata": {
    "tags": []
   },
   "outputs": [],
   "source": [
    "\n",
    "dataframe = prepareData('train', 'data_train')\n",
    "validateDataFile('data_train')\n",
    "\n",
    "prepareData('test-no-leak', 'data_test_no_leak')\n",
    "validateDataFile('data_test_no_leak')\n",
    "\n",
    "prepareData('test-leak', 'data_test_leak')\n",
    "validateDataFile('data_test_leak')\n"
   ]
  },
  {
   "cell_type": "code",
   "execution_count": null,
   "id": "40301c1e-d4f2-430d-adce-1967b040815e",
   "metadata": {},
   "outputs": [],
   "source": []
  }
 ],
 "metadata": {
  "kernelspec": {
   "display_name": "Python 3 (ipykernel)",
   "language": "python",
   "name": "python3"
  },
  "language_info": {
   "codemirror_mode": {
    "name": "ipython",
    "version": 3
   },
   "file_extension": ".py",
   "mimetype": "text/x-python",
   "name": "python",
   "nbconvert_exporter": "python",
   "pygments_lexer": "ipython3",
   "version": "3.11.5"
  }
 },
 "nbformat": 4,
 "nbformat_minor": 5
}
